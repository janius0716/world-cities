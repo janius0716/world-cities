{
 "cells": [
  {
   "cell_type": "code",
   "execution_count": null,
   "id": "e6de1afb",
   "metadata": {},
   "outputs": [],
   "source": [
    "import streamlit as st\n",
    "import pandas as pd\n",
    "import matplotlib.pyplot as plt\n",
    "plt.style.use('seaborn')\n",
    "st.title('World Cites')\n",
    "df = pd.read_csv('worldcities.csv')\n",
    "# note that you have to use 0.0 and 40.0 given that the data type of populatio\n",
    "n is float\n",
    "population_filter = st.slider('Minimal Population Millions):', 0.0, 40.0, 3.6 # mi\n",
    "n, max, default\n",
    "# create a multi select\n",
    "capital_filter = st.sidebar.multiselect(\n",
    "'Capital Selector',\n",
    "df.capital.unique(), # options\n",
    "df.capital.unique()) # defaults\n",
    "# create a input form\n",
    "form = st.sidebar.form(\"country_form\")\n",
    "country_filter = form.text_input('Country Name (enter ALL to reset)', 'ALL')\n",
    "form.form_submit_button(\"Apply\")\n",
    "# filter by population\n",
    "df = df[df.population >= population_filter]\n",
    "# filter by capital\n",
    "df = df[df.capital.isin(capital_filter)]\n",
    "if country_filter!'ALL':\n",
    "df = df[df.country == country_filter]\n",
    "# show on map\n",
    "st.map(df)\n",
    "# show dataframe\n",
    "st.subheader('City Details:')\n",
    "st.write(df[['city', 'country', 'population']])\n",
    "# show the plot\n",
    "st.subheader('Total Population By Country')Data App Tutorial6\n",
    "fig, ax = plt.subplots(figsize=(20, 5\n",
    "pop_sum = df.groupby('country')['population'].sum()\n",
    "pop_sum.plot.bar(ax=ax)\n",
    "st.pyplot(fig)"
   ]
  }
 ],
 "metadata": {
  "language_info": {
   "name": "python"
  }
 },
 "nbformat": 4,
 "nbformat_minor": 5
}
